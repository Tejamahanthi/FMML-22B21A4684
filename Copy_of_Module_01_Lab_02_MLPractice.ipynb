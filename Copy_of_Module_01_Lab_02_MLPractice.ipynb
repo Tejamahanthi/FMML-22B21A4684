{
  "nbformat": 4,
  "nbformat_minor": 0,
  "metadata": {
    "colab": {
      "provenance": [],
      "include_colab_link": true
    },
    "kernelspec": {
      "name": "python3",
      "display_name": "Python 3"
    },
    "language_info": {
      "name": "python"
    }
  },
  "cells": [
    {
      "cell_type": "markdown",
      "metadata": {
        "id": "view-in-github",
        "colab_type": "text"
      },
      "source": [
        "<a href=\"https://colab.research.google.com/github/Tejamahanthi/FMML-22B21A4684/blob/main/Copy_of_Module_01_Lab_02_MLPractice.ipynb\" target=\"_parent\"><img src=\"https://colab.research.google.com/assets/colab-badge.svg\" alt=\"Open In Colab\"/></a>"
      ]
    },
    {
      "cell_type": "markdown",
      "metadata": {
        "id": "3Eu9VZbF01eq"
      },
      "source": [
        "# Machine learning terms and metrics\n",
        "\n",
        "FMML Module 1, Lab 2<br>\n",
        "\n",
        "\n",
        " In this lab, we will show a part of the ML pipeline by extracting features, training and testing"
      ]
    },
    {
      "cell_type": "code",
      "metadata": {
        "id": "8qBvyEem0vLi"
      },
      "source": [
        "import matplotlib.pyplot as plt\n",
        "import numpy as np\n",
        "from sklearn import datasets\n",
        "# set randomseed\n",
        "rng = np.random.default_rng(seed=42)"
      ],
      "execution_count": 1,
      "outputs": []
    },
    {
      "cell_type": "markdown",
      "metadata": {
        "id": "u3t59g5s1HfC"
      },
      "source": [
        "In this lab, we will use the California Housing dataset. There are 20640 samples, each with 8 attributes like income of the block, age of the houses per district etc. The task is to predict the cost of the houses per district.\n",
        "\n",
        "Let us download and examine the dataset."
      ]
    },
    {
      "cell_type": "code",
      "metadata": {
        "id": "8LpqjN991GGJ",
        "colab": {
          "base_uri": "https://localhost:8080/"
        },
        "outputId": "77db7d08-aa54-402f-8ffc-f79591939018"
      },
      "source": [
        " dataset =  datasets.fetch_california_housing()\n",
        " # print(dataset.DESCR)  # uncomment this if you want to know more about this dataset\n",
        " # print(dataset.keys())  # if you want to know what else is there in this dataset\n",
        " dataset.target = dataset.target.astype(np.int) # so that we can classify\n",
        " print(dataset.data.shape)\n",
        " print(dataset.target.shape)"
      ],
      "execution_count": 2,
      "outputs": [
        {
          "output_type": "stream",
          "name": "stdout",
          "text": [
            "(20640, 8)\n",
            "(20640,)\n"
          ]
        },
        {
          "output_type": "stream",
          "name": "stderr",
          "text": [
            "<ipython-input-2-60ae2e9a125e>:4: DeprecationWarning: `np.int` is a deprecated alias for the builtin `int`. To silence this warning, use `int` by itself. Doing this will not modify any behavior and is safe. When replacing `np.int`, you may wish to use e.g. `np.int64` or `np.int32` to specify the precision. If you wish to review your current use, check the release note link for additional information.\n",
            "Deprecated in NumPy 1.20; for more details and guidance: https://numpy.org/devdocs/release/1.20.0-notes.html#deprecations\n",
            "  dataset.target = dataset.target.astype(np.int) # so that we can classify\n"
          ]
        }
      ]
    },
    {
      "cell_type": "markdown",
      "metadata": {
        "id": "iNx4174W5xRg"
      },
      "source": [
        "Here is a function for calculating the 1-nearest neighbours"
      ]
    },
    {
      "cell_type": "code",
      "metadata": {
        "id": "07zpydQj1hIQ"
      },
      "source": [
        "def NN1(traindata, trainlabel, query):\n",
        "  diff  = traindata - query  # find the difference between features. Numpy automatically takes care of the size here\n",
        "  sq = diff*diff # square the differences\n",
        "  dist = sq.sum(1) # add up the squares\n",
        "  label = trainlabel[np.argmin(dist)] # our predicted label is the label of the training data which has the least distance from the query\n",
        "  return label\n",
        "\n",
        "def NN(traindata, trainlabel, testdata):\n",
        "  # we will run nearest neighbour for each sample in the test data\n",
        "  # and collect the predicted classes in an array using list comprehension\n",
        "  predlabel = np.array([NN1(traindata, trainlabel, i) for i in testdata])\n",
        "  return predlabel"
      ],
      "execution_count": 3,
      "outputs": []
    },
    {
      "cell_type": "markdown",
      "metadata": {
        "id": "03JktkfIGaje"
      },
      "source": [
        "We will also define a 'random classifier', which randomly allots labels to each sample"
      ]
    },
    {
      "cell_type": "code",
      "metadata": {
        "id": "fogWAtjyGhAH"
      },
      "source": [
        "def RandomClassifier(traindata, trainlabel, testdata):\n",
        "  # in reality, we don't need these arguments\n",
        "\n",
        "  classes = np.unique(trainlabel)\n",
        "  rints = rng.integers(low=0, high=len(classes), size=len(testdata))\n",
        "  predlabel = classes[rints]\n",
        "  return predlabel"
      ],
      "execution_count": 4,
      "outputs": []
    },
    {
      "cell_type": "markdown",
      "metadata": {
        "id": "1Hjf1KHs7fU5"
      },
      "source": [
        "Let us define a metric 'Accuracy' to see how good our learning algorithm is. Accuracy is the ratio of the number of correctly classified samples to the total number of samples. The higher the accuracy, the better the algorithm."
      ]
    },
    {
      "cell_type": "code",
      "metadata": {
        "id": "ouuCqWU07bz-"
      },
      "source": [
        "def Accuracy(gtlabel, predlabel):\n",
        "  assert len(gtlabel)==len(predlabel), \"Length of the groundtruth labels and predicted labels should be the same\"\n",
        "  correct = (gtlabel==predlabel).sum() # count the number of times the groundtruth label is equal to the predicted label.\n",
        "  return correct/len(gtlabel)"
      ],
      "execution_count": 5,
      "outputs": []
    },
    {
      "cell_type": "markdown",
      "metadata": {
        "id": "4vJFwBFa9Klw"
      },
      "source": [
        "Let us make a function to split the dataset with the desired probability."
      ]
    },
    {
      "cell_type": "code",
      "metadata": {
        "id": "Ko0VzpSM2Tdi"
      },
      "source": [
        "def split(data, label, percent):\n",
        "  # generate a random number for each sample\n",
        "  rnd = rng.random(len(label))\n",
        "  split1 = rnd<percent\n",
        "  split2 = rnd>=percent\n",
        "  split1data = data[split1,:]\n",
        "  split1label = label[split1]\n",
        "  split2data = data[split2,:]\n",
        "  split2label = label[split2]\n",
        "  return split1data, split1label, split2data, split2label"
      ],
      "execution_count": 6,
      "outputs": []
    },
    {
      "cell_type": "markdown",
      "metadata": {
        "id": "AcK3LEAJ_LGC"
      },
      "source": [
        "We will reserve 20% of our dataset as the test set. We will not change this portion throughout our experiments"
      ]
    },
    {
      "cell_type": "code",
      "metadata": {
        "id": "bBZkHBLJ1iU-",
        "colab": {
          "base_uri": "https://localhost:8080/"
        },
        "outputId": "6bee2da9-09d0-4eb8-a03b-fd7085625402"
      },
      "source": [
        "testdata, testlabel, alltraindata, alltrainlabel = split(dataset.data, dataset.target, 20/100)\n",
        "print('Number of test samples = ', len(testlabel))\n",
        "print('Number of other samples = ', len(alltrainlabel))\n",
        "print('Percent of test data = ', len(testlabel)*100/len(dataset.target),'%')"
      ],
      "execution_count": 7,
      "outputs": [
        {
          "output_type": "stream",
          "name": "stdout",
          "text": [
            "Number of test samples =  4144\n",
            "Number of other samples =  16496\n",
            "Percent of test data =  20.07751937984496 %\n"
          ]
        }
      ]
    },
    {
      "cell_type": "markdown",
      "metadata": {
        "id": "a6Ss0Z6IAGNV"
      },
      "source": [
        "## Experiments with splits\n",
        "\n",
        "Let us reserve some of our train data as a validation set"
      ]
    },
    {
      "cell_type": "code",
      "metadata": {
        "id": "WFew2iry_7W7"
      },
      "source": [
        "traindata, trainlabel, valdata, vallabel = split(alltraindata, alltrainlabel, 75/100)"
      ],
      "execution_count": 8,
      "outputs": []
    },
    {
      "cell_type": "markdown",
      "metadata": {
        "id": "60hiu4clFN1i"
      },
      "source": [
        "What is the accuracy of our classifiers on the train dataset?"
      ]
    },
    {
      "cell_type": "code",
      "metadata": {
        "id": "DBlZDTHUFTZx",
        "colab": {
          "base_uri": "https://localhost:8080/"
        },
        "outputId": "462870a2-cb56-4733-a0d4-8b27a7b2c372"
      },
      "source": [
        "trainpred = NN(traindata, trainlabel, traindata)\n",
        "trainAccuracy = Accuracy(trainlabel, trainpred)\n",
        "print(\"Train accuracy using nearest neighbour is \", trainAccuracy)\n",
        "\n",
        "trainpred = RandomClassifier(traindata, trainlabel, traindata)\n",
        "trainAccuracy = Accuracy(trainlabel, trainpred)\n",
        "print(\"Train accuracy using random classifier is \", trainAccuracy)"
      ],
      "execution_count": 9,
      "outputs": [
        {
          "output_type": "stream",
          "name": "stdout",
          "text": [
            "Train accuracy using nearest neighbour is  1.0\n",
            "Train accuracy using random classifier is  0.164375808538163\n"
          ]
        }
      ]
    },
    {
      "cell_type": "markdown",
      "metadata": {
        "id": "7h08-9gJDtSy"
      },
      "source": [
        "For nearest neighbour, the train accuracy is always 1. The accuracy of the random classifier is close to 1/(number of classes) which is 0.1666 in our case.\n",
        "\n",
        "Let us predict the labels for our validation set and get the accuracy"
      ]
    },
    {
      "cell_type": "code",
      "metadata": {
        "id": "4h7bXoW_2H3v",
        "colab": {
          "base_uri": "https://localhost:8080/"
        },
        "outputId": "310b3c86-2325-4aa6-cb18-620f4b5714b0"
      },
      "source": [
        "valpred = NN(traindata, trainlabel, valdata)\n",
        "valAccuracy = Accuracy(vallabel, valpred)\n",
        "print(\"Validation accuracy using nearest neighbour is \", valAccuracy)\n",
        "\n",
        "valpred = RandomClassifier(traindata, trainlabel, valdata)\n",
        "valAccuracy = Accuracy(vallabel, valpred)\n",
        "print(\"Validation accuracy using random classifier is \", valAccuracy)"
      ],
      "execution_count": 10,
      "outputs": [
        {
          "output_type": "stream",
          "name": "stdout",
          "text": [
            "Validation accuracy using nearest neighbour is  0.34108527131782945\n",
            "Validation accuracy using random classifier is  0.1688468992248062\n"
          ]
        }
      ]
    },
    {
      "cell_type": "markdown",
      "metadata": {
        "id": "py9bLguFEjfg"
      },
      "source": [
        "Validation accuracy of nearest neighbour is considerably less than its train accuracy while the validation accuracy of random classifier is the same. However, the validation accuracy of nearest neighbour is twice that of the random classifier.\n",
        "\n",
        "Now let us try another random split and check the validation accuracy"
      ]
    },
    {
      "cell_type": "code",
      "metadata": {
        "id": "ujm3cyYzEntE",
        "colab": {
          "base_uri": "https://localhost:8080/"
        },
        "outputId": "2de3ccb7-7ef1-4297-9f15-eacc35eaf471"
      },
      "source": [
        "traindata, trainlabel, valdata, vallabel = split(alltraindata, alltrainlabel, 75/100)\n",
        "valpred = NN(traindata, trainlabel, valdata)\n",
        "valAccuracy = Accuracy(vallabel, valpred)\n",
        "print(\"Validation accuracy of nearest neighbour is \", valAccuracy)"
      ],
      "execution_count": 11,
      "outputs": [
        {
          "output_type": "stream",
          "name": "stdout",
          "text": [
            "Validation accuracy of nearest neighbour is  0.34048257372654156\n"
          ]
        }
      ]
    },
    {
      "cell_type": "markdown",
      "metadata": {
        "id": "oSOx7U83EKie"
      },
      "source": [
        "You can run the above cell multiple times to try with different random splits.\n",
        "We notice that the accuracy is different for each run, but close together.\n",
        "\n",
        "Now let us compare it with the accuracy we get on the test dataset."
      ]
    },
    {
      "cell_type": "code",
      "metadata": {
        "id": "PNEZ5ToYBEDW",
        "colab": {
          "base_uri": "https://localhost:8080/"
        },
        "outputId": "a5ce5857-5926-45c8-e119-de7051f99fc2"
      },
      "source": [
        "testpred = NN(alltraindata, alltrainlabel, testdata)\n",
        "testAccuracy = Accuracy(testlabel, testpred)\n",
        "print('Test accuracy is ', testAccuracy)"
      ],
      "execution_count": 12,
      "outputs": [
        {
          "output_type": "stream",
          "name": "stdout",
          "text": [
            "Test accuracy is  0.34917953667953666\n"
          ]
        }
      ]
    },
    {
      "cell_type": "markdown",
      "metadata": {
        "id": "w3dGD531K3gH"
      },
      "source": [
        "### Try it out for yourself and answer:\n",
        "1. How is the accuracy of the validation set affected if we increase the percentage of validation set? What happens when we reduce it?\n",
        "2. How does the size of the train and validation set affect how well we can predict the accuracy on the test set using the validation set?\n",
        "3. What do you think is a good percentage to reserve for the validation set so that thest two factors are balanced?\n",
        "\n",
        "Answer for both nearest neighbour and random classifier. You can note down the values for your experiments and plot a graph using  <a href=https://matplotlib.org/stable/gallery/lines_bars_and_markers/step_demo.html#sphx-glr-gallery-lines-bars-and-markers-step-demo-py>plt.plot<href>. Check also for extreme values for splits, like 99.9% or 0.1%"
      ]
    },
    {
      "cell_type": "code",
      "source": [
        "# Q1. Increasing the percentage of Validation Set\n",
        "traindata, trainlabel, valdata, vallabel = split(alltraindata, alltrainlabel, 90/100) # Increased from 75 to 90\n",
        "valpred = NN(traindata, trainlabel, valdata)\n",
        "valAccuracy = Accuracy(vallabel, valpred)\n",
        "print(\"Validation (75%) accuracy of nearest neighbour is \", valAccuracy)\n",
        "\n",
        "valpred = RandomClassifier(traindata, trainlabel, valdata)\n",
        "valAccuracy = Accuracy(vallabel, valpred)\n",
        "print(\"Validation (75%) accuracy using random classifier is \", valAccuracy)\n",
        "\n",
        "print()\n",
        "# Decreasing the percentage of Validation Set\n",
        "\n",
        "traindata, trainlabel, valdata, vallabel = split(alltraindata, alltrainlabel, 10/100) # Decreased from 75 to 10\n",
        "valpred = NN(traindata, trainlabel, valdata)\n",
        "valAccuracy = Accuracy(vallabel, valpred)\n",
        "print(\"Validation (10%) accuracy of nearest neighbour is \", valAccuracy)\n",
        "\n",
        "valpred = RandomClassifier(traindata, trainlabel, valdata)\n",
        "valAccuracy = Accuracy(vallabel, valpred)\n",
        "print(\"Validation (10%) accuracy using random classifier is \", valAccuracy)\n"
      ],
      "metadata": {
        "colab": {
          "base_uri": "https://localhost:8080/"
        },
        "id": "BS9w6nSn5z_b",
        "outputId": "2e87803e-a3ff-4227-f04e-3632f771132d"
      },
      "execution_count": 15,
      "outputs": [
        {
          "output_type": "stream",
          "name": "stdout",
          "text": [
            "Validation (75%) accuracy of nearest neighbour is  0.35461801596351195\n",
            "Validation (75%) accuracy using random classifier is  0.1653363740022805\n",
            "\n",
            "Validation (10%) accuracy of nearest neighbour is  0.3023867313915858\n",
            "Validation (10%) accuracy using random classifier is  0.1662621359223301\n"
          ]
        }
      ]
    },
    {
      "cell_type": "code",
      "source": [
        "# Q2. Let us take 50% of the dataset as the Train set\n",
        "# 25% of the dataset as the validation set\n",
        "# 25% of the dataset as the test set\n",
        "traindata, trainlabel, splitdata, splitlabel = split(dataset.data, dataset.target, 50/100)\n",
        "valdata, vallabel, testdata, testlabel = split(splitdata, splitlabel, 50/100)\n",
        "\n",
        "print(f\"Percent of Train Data in the dataset: {round(len(trainlabel)*100/len(dataset.target), 2)}\")\n",
        "print(f\"Percent of Test Data in the dataset: {round(len(testlabel)*100/len(dataset.target), 2)}\")\n",
        "print(f\"Percent of Validation Data in the dataset: {round(len(vallabel)*100/len(dataset.target), 2)}\")\n",
        "\n",
        "testpred = NN(testdata, testlabel, valdata)\n",
        "testpred2 = RandomClassifier(testdata, testlabel, valdata)\n",
        "\n",
        "accu = Accuracy(vallabel, testpred)\n",
        "accu2 = Accuracy(vallabel, testpred2)\n",
        "print(f\"Accuracy (Nearest Neighbour) of Test Set using Validation Set: {accu}\")\n",
        "print(f\"Accuracy (Random Classifier) of Test Set using Validation Set: {accu2}\")\n"
      ],
      "metadata": {
        "colab": {
          "base_uri": "https://localhost:8080/"
        },
        "id": "8qg5n3_W56q1",
        "outputId": "1c1aabd8-1114-4512-a747-67d1acd398fb"
      },
      "execution_count": 16,
      "outputs": [
        {
          "output_type": "stream",
          "name": "stdout",
          "text": [
            "Percent of Train Data in the dataset: 49.67\n",
            "Percent of Test Data in the dataset: 25.04\n",
            "Percent of Validation Data in the dataset: 25.29\n",
            "Accuracy (Nearest Neighbour) of Test Set using Validation Set: 0.31839080459770114\n",
            "Accuracy (Random Classifier) of Test Set using Validation Set: 0.16436781609195403\n"
          ]
        }
      ]
    },
    {
      "cell_type": "code",
      "source": [
        "# Small Training Set, Large Validation Set\n",
        "traindata, trainlabel, splitdata, splitlabel = split(dataset.data, dataset.target, 10/100)\n",
        "valdata, vallabel, testdata, testlabel = split(splitdata, splitlabel, 50/100)\n",
        "\n",
        "print(f\"Percent of Train Data in the dataset: {round(len(trainlabel)*100/len(dataset.target), 2)}\")\n",
        "print(f\"Percent of Test Data in the dataset: {round(len(testlabel)*100/len(dataset.target), 2)}\")\n",
        "print(f\"Percent of Validation Data in the dataset: {round(len(vallabel)*100/len(dataset.target), 2)}\")\n",
        "\n",
        "testpred = NN(testdata, testlabel, valdata)\n",
        "testpred2 = RandomClassifier(testdata, testlabel, valdata)\n",
        "\n",
        "accu = Accuracy(vallabel, testpred)\n",
        "accu2 = Accuracy(vallabel, testpred2)\n",
        "print(f\"Accuracy (Nearest Neighbour) of Test Set using Validation Set: {accu}\")\n",
        "print(f\"Accuracy (Random Classifier) of Test Set using Validation Set: {accu2}\")\n"
      ],
      "metadata": {
        "colab": {
          "base_uri": "https://localhost:8080/"
        },
        "id": "f2Iacw42591_",
        "outputId": "04c3415e-4a7d-45e8-d3f0-e7a2eff50017"
      },
      "execution_count": 17,
      "outputs": [
        {
          "output_type": "stream",
          "name": "stdout",
          "text": [
            "Percent of Train Data in the dataset: 9.75\n",
            "Percent of Test Data in the dataset: 44.78\n",
            "Percent of Validation Data in the dataset: 45.47\n",
            "Accuracy (Nearest Neighbour) of Test Set using Validation Set: 0.3342567927543953\n",
            "Accuracy (Random Classifier) of Test Set using Validation Set: 0.1627064464571124\n"
          ]
        }
      ]
    },
    {
      "cell_type": "code",
      "source": [
        "# Large Training Set, Small Validation Set\n",
        "traindata, trainlabel, splitdata, splitlabel = split(dataset.data, dataset.target, 80/100)\n",
        "valdata, vallabel, testdata, testlabel = split(splitdata, splitlabel, 50/100)\n",
        "\n",
        "print(f\"Percent of Train Data in the dataset: {round(len(trainlabel)*100/len(dataset.target), 2)}\")\n",
        "print(f\"Percent of Test Data in the dataset: {round(len(testlabel)*100/len(dataset.target), 2)}\")\n",
        "print(f\"Percent of Validation Data in the dataset: {round(len(vallabel)*100/len(dataset.target), 2)}\")\n",
        "\n",
        "testpred = NN(testdata, testlabel, valdata)\n",
        "testpred2 = RandomClassifier(testdata, testlabel, valdata)\n",
        "\n",
        "accu = Accuracy(vallabel, testpred)\n",
        "accu2 = Accuracy(vallabel, testpred2)\n",
        "print(f\"Accuracy (Nearest Neighbour) of Test Set using Validation Set: {accu}\")\n",
        "print(f\"Accuracy (Random Classifier) of Test Set using Validation Set: {accu2}\")\n"
      ],
      "metadata": {
        "colab": {
          "base_uri": "https://localhost:8080/"
        },
        "id": "PjZEUuwC6A61",
        "outputId": "00933775-fd58-4966-f507-c65644f687f8"
      },
      "execution_count": 18,
      "outputs": [
        {
          "output_type": "stream",
          "name": "stdout",
          "text": [
            "Percent of Train Data in the dataset: 80.25\n",
            "Percent of Test Data in the dataset: 10.13\n",
            "Percent of Validation Data in the dataset: 9.63\n",
            "Accuracy (Nearest Neighbour) of Test Set using Validation Set: 0.27730246602918973\n",
            "Accuracy (Random Classifier) of Test Set using Validation Set: 0.16255661801711122\n"
          ]
        }
      ]
    },
    {
      "cell_type": "code",
      "source": [
        "# Balanced Datasets\n",
        "traindata, trainlabel, splitdata, splitlabel = split(dataset.data, dataset.target, 50/100)\n",
        "valdata, vallabel, testdata, testlabel = split(splitdata, splitlabel, 50/100)\n",
        "\n",
        "print(f\"Percent of Train Data in the dataset: {round(len(trainlabel)*100/len(dataset.target), 2)}\")\n",
        "print(f\"Percent of Test Data in the dataset: {round(len(testlabel)*100/len(dataset.target), 2)}\")\n",
        "print(f\"Percent of Validation Data in the dataset: {round(len(vallabel)*100/len(dataset.target), 2)}\")\n",
        "\n",
        "testpred = NN(testdata, testlabel, valdata)\n",
        "testpred2 = RandomClassifier(testdata, testlabel, valdata)\n",
        "\n",
        "accu = Accuracy(vallabel, testpred)\n",
        "accu2 = Accuracy(vallabel, testpred2)\n",
        "print(f\"Accuracy (Nearest Neighbour) of Test Set using Validation Set: {accu}\")\n",
        "print(f\"Accuracy (Random Classifier) of Test Set using Validation Set: {accu2}\")\n"
      ],
      "metadata": {
        "colab": {
          "base_uri": "https://localhost:8080/"
        },
        "id": "7DJImzmk6DvX",
        "outputId": "cf204e21-1c7e-48a3-c223-317881d764c8"
      },
      "execution_count": 19,
      "outputs": [
        {
          "output_type": "stream",
          "name": "stdout",
          "text": [
            "Percent of Train Data in the dataset: 50.03\n",
            "Percent of Test Data in the dataset: 24.55\n",
            "Percent of Validation Data in the dataset: 25.41\n",
            "Accuracy (Nearest Neighbour) of Test Set using Validation Set: 0.31801715919923734\n",
            "Accuracy (Random Classifier) of Test Set using Validation Set: 0.1553860819828408\n"
          ]
        }
      ]
    },
    {
      "cell_type": "markdown",
      "source": [
        "In Train-Validation-Set Split we get highest accuracy for the 10-45-45 Split, But in Reality the performance of the model is decreased becuase the train set is small when compared to the test and validation set.\n",
        "\n",
        "50-25-25 Split is the best in my opinion"
      ],
      "metadata": {
        "id": "owhYRcSR6H-Q"
      }
    },
    {
      "cell_type": "markdown",
      "metadata": {
        "id": "PnYvkAZLQY7h"
      },
      "source": [
        "## Multiple Splits\n",
        "\n",
        "One way to get more accurate estimates for the test accuracy is by using <b>crossvalidation</b>. Here, we will try a simple version, where we do multiple train/val splits and take the average of validation accuracies as the test accuracy estimation. Here is a function for doing this. Note that this function will take a long time to execute."
      ]
    },
    {
      "cell_type": "code",
      "metadata": {
        "id": "E4nGCUQXBTzo"
      },
      "source": [
        "# you can use this function for random classifier also\n",
        "def AverageAccuracy(alldata, alllabel, splitpercent, iterations, classifier=NN):\n",
        "  accuracy = 0\n",
        "  for ii in range(iterations):\n",
        "    traindata, trainlabel, valdata, vallabel = split(alldata, alllabel, splitpercent)\n",
        "    valpred = classifier(traindata, trainlabel, valdata)\n",
        "    accuracy += Accuracy(vallabel, valpred)\n",
        "  return accuracy/iterations # average of all accuracies"
      ],
      "execution_count": 13,
      "outputs": []
    },
    {
      "cell_type": "code",
      "metadata": {
        "id": "H3qtNar7Bbik",
        "colab": {
          "base_uri": "https://localhost:8080/"
        },
        "outputId": "78a3c61f-9b3c-4f38-e313-9d4e15f9ccd4"
      },
      "source": [
        "print('Average validation accuracy is ', AverageAccuracy(alltraindata, alltrainlabel, 75/100, 10, classifier=NN))\n",
        "testpred = NN(alltraindata, alltrainlabel, testdata)\n",
        "print('test accuracy is ',Accuracy(testlabel, testpred) )"
      ],
      "execution_count": 14,
      "outputs": [
        {
          "output_type": "stream",
          "name": "stdout",
          "text": [
            "Average validation accuracy is  0.33584635395170215\n",
            "test accuracy is  0.34917953667953666\n"
          ]
        }
      ]
    },
    {
      "cell_type": "markdown",
      "metadata": {
        "id": "33GIn4x5VH-d"
      },
      "source": [
        "This is a very simple way of doing cross-validation. There are many well-known algorithms for cross-validation, like k-fold cross-validation, leave-one-out etc. This will be covered in detail in a later module. For more information about cross-validation, check <a href=https://en.wikipedia.org/wiki/Cross-validation_(statistics)>Cross-validatioin (Wikipedia)</a>\n",
        "\n",
        "### Questions\n",
        "1. Does averaging the validation accuracy across multiple splits give more consistent results?\n",
        "2. Does it give more accurate estimate of test accuracy?\n",
        "3. What is the effect of the number of iterations on the estimate? Do we get a better estimate with higher iterations?\n",
        "4. Consider the results you got for the previous questions. Can we deal with a very small train dataset or validation dataset by increasing the iterations?\n"
      ]
    },
    {
      "cell_type": "markdown",
      "source": [
        "Does averaging the validation accuracy across multiple splits give more consistent results?\n",
        "\n",
        "Yes, averaging the validation accuracy across multiple splits in a cross-validation process does give more consistent and reliable results. Because it reduces Variance of the data.\n",
        "\n",
        "(With a single validation split, the model's performance may be highly influenced by the specific data points included in that split, leading to variance in the performance estimate. Averaging over multiple splits smooths out this variance.)"
      ],
      "metadata": {
        "id": "AtHyADGK6M7Y"
      }
    },
    {
      "cell_type": "markdown",
      "source": [
        "Does it give more accurate estimate of test accuracy?\n",
        "\n",
        "Cross-validation provides a good estimate of how well your model should generalize to new, unseen data, which is valuable for model selection, hyperparameter tuning, and assessing generalization performance."
      ],
      "metadata": {
        "id": "4J2ewmLP6QFb"
      }
    },
    {
      "cell_type": "code",
      "source": [
        "# Q3. What is the effect of the number of iterations on the estimate?\n",
        "# Do we get a better estimate with higher iterations?\n",
        "# Let's test with the iterations of 100\n",
        "\n",
        "print('Average validation accuracy is ', AverageAccuracy(alltraindata, alltrainlabel, 75/100, 100, classifier=NN))\n",
        "testpred = NN(alltraindata, alltrainlabel, testdata) # Not to mention, it took 4m to execute\n",
        "print('test accuracy(100 iterations) is ',Accuracy(testlabel, testpred))\n"
      ],
      "metadata": {
        "colab": {
          "base_uri": "https://localhost:8080/"
        },
        "id": "rS8fwVCp6SSW",
        "outputId": "8d92e6de-3d59-4ddd-d3a6-c01f0148b8e4"
      },
      "execution_count": 20,
      "outputs": [
        {
          "output_type": "stream",
          "name": "stdout",
          "text": [
            "Average validation accuracy is  0.3413734038219367\n",
            "test accuracy(100 iterations) is  0.8685872138910813\n"
          ]
        }
      ]
    },
    {
      "cell_type": "code",
      "source": [
        "# testing with 5 iterations\n",
        "print('Average validation accuracy is ', AverageAccuracy(alltraindata, alltrainlabel, 75/100, 5, classifier=NN))\n",
        "testpred = NN(alltraindata, alltrainlabel, testdata)\n",
        "print('test accuracy(5 iterations) is ',Accuracy(testlabel, testpred))\n",
        "\n",
        "# Iterations are used to increase the accuracy of the model, but to some extent.\n",
        "# Increase in the iterations can lead to increase in runtime, accuracy is same in all the test cases.\n"
      ],
      "metadata": {
        "colab": {
          "base_uri": "https://localhost:8080/"
        },
        "id": "_dzVKKtH7b95",
        "outputId": "4f0a62ae-b852-4d7f-9e94-83d2a7f1c405"
      },
      "execution_count": 21,
      "outputs": [
        {
          "output_type": "stream",
          "name": "stdout",
          "text": [
            "Average validation accuracy is  0.33980987577823873\n",
            "test accuracy(5 iterations) is  0.8685872138910813\n"
          ]
        }
      ]
    },
    {
      "cell_type": "code",
      "source": [
        "# Q4.Can we deal with a very small train dataset or validation dataset by increasing the iterations?\n",
        "# Here I take 10% of the dataset as the train data\n",
        "print(\"One Iteration\\n\")\n",
        "print('Average validation accuracy is ', AverageAccuracy(alltraindata, alltrainlabel, 0.01, 1, classifier=NN))\n",
        "testpred = NN(alltraindata, alltrainlabel, testdata)\n",
        "print('test accuracy(1 iterations) is ',Accuracy(testlabel, testpred))\n",
        "print(\"50 Iterations\\n\")\n",
        "print('Average validation accuracy is ', AverageAccuracy(alltraindata, alltrainlabel, 0.01, 1, classifier=NN))\n",
        "testpred = NN(alltraindata, alltrainlabel, testdata)\n",
        "print('test accuracy(50 iterations) is ',Accuracy(testlabel, testpred))\n",
        "print(\"100 Iterations\\n\")\n",
        "print('Average validation accuracy is ', AverageAccuracy(alltraindata, alltrainlabel, 0.01, 1, classifier=NN))\n",
        "testpred = NN(alltraindata, alltrainlabel, testdata)\n",
        "print('test accuracy(100 iterations) is ',Accuracy(testlabel, testpred))\n"
      ],
      "metadata": {
        "colab": {
          "base_uri": "https://localhost:8080/"
        },
        "id": "FYsYF1Yd7ixl",
        "outputId": "83a687c2-fd38-4beb-cfed-de19a107ada9"
      },
      "execution_count": 22,
      "outputs": [
        {
          "output_type": "stream",
          "name": "stdout",
          "text": [
            "One Iteration\n",
            "\n",
            "Average validation accuracy is  0.27537915851272016\n",
            "test accuracy(1 iterations) is  0.8685872138910813\n",
            "50 Iterations\n",
            "\n",
            "Average validation accuracy is  0.27289433384379785\n",
            "test accuracy(50 iterations) is  0.8685872138910813\n",
            "100 Iterations\n",
            "\n",
            "Average validation accuracy is  0.28564432200795836\n",
            "test accuracy(100 iterations) is  0.8685872138910813\n"
          ]
        }
      ]
    },
    {
      "cell_type": "markdown",
      "source": [
        "**Increasing the number of iterations (folds) in cross-validation can help when dealing with a very small training dataset or validation dataset to some extent, but it may not completely overcome the limitations of a small dataset**\n",
        "\n",
        "Sometimes, the accuracy fluctuates, this is because Insufficient training data can lead to models that underfit and do not learn the underlying patterns effectively.\n",
        "\n",
        "As we increase the iterations, we increases the runtime\n",
        "\n",
        "Small datasets often suffer from sampling bias, where the limited data may not be representative of the overall population. More iterations may not fully address this issue"
      ],
      "metadata": {
        "id": "EiLnCDYE7pIf"
      }
    }
  ]
}